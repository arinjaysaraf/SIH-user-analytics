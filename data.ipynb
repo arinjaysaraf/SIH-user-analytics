{
 "cells": [
  {
   "cell_type": "code",
   "execution_count": 31,
   "metadata": {},
   "outputs": [
    {
     "data": {
      "text/plain": [
       "([<matplotlib.patches.Wedge at 0x7ff2bb51abf0>,\n",
       "  <matplotlib.patches.Wedge at 0x7ff2bb51b190>,\n",
       "  <matplotlib.patches.Wedge at 0x7ff2bb51ab00>],\n",
       " [Text(-1.0939499795932315, -0.11521042551769631, 'Male'),\n",
       "  Text(1.0998297731263655, 0.019351231092816938, 'Female'),\n",
       "  Text(0.09594777830837992, 1.0958074757171927, 'Others')])"
      ]
     },
     "execution_count": 31,
     "metadata": {},
     "output_type": "execute_result"
    },
    {
     "data": {
      "image/png": "[encoded data removed]",
      "text/plain": [
       "<Figure size 432x288 with 1 Axes>"
      ]
     },
     "metadata": {},
     "output_type": "display_data"
    }
   ],
   "source": [
    "import pandas as pd\n",
    "import numpy as np\n",
    "import random\n",
    "import matplotlib.pyplot as plt\n",
    "\n",
    "states = [ \"Andhra Pradesh\", \"Arunachal Pradesh\", \"Assam\",\"Bihar\",\"Chhattisgarh\",\"Goa\",\"Gujarat\",\"Haryana\",\"Himachal Pradesh\",\"Jammu and Kashmir\",\"Jharkhand\", \"Karnataka\", \"Kerala\", \"Madhya Pradesh\", \"Maharashtra\", \"Manipur\", \"Meghalaya\", \"Mizoram\", \"Nagaland\", \"Odisha\", \"Punjab\", \"Rajasthan\", \"Sikkim\", \"Tamil Nadu\", \"Telangana\", \"Tripura\", \"Uttarakhand\", \"Uttar Pradesh\", \"West Bengal\", \"Andaman and Nicobar Islands\", \"Chandigarh\", \"Dadra and Nagar Haveli\", \"Daman and Diu\", \"Delhi\", \"Lakshadweep\", \"Puducherry\"]\n",
    "\n",
    "fNames = [\"Saanvi\", \"Anya\", \"Aadhya\", \"Aaradhya\", \"Ananya\", \"Pari\", \"Anika\", \"Navya\", \"Angel\", \"Diya\", \"Myra\", \"Sara\", \"Iraa\", \"Ahana\", \"Anvi\", \"Prisha\", \"Riya\", \"Aarohi\", \"Anaya\", \"Akshara\", \"Eva\", \"Shanaya\", \"Kyra\", \"Siya\",\"Aarav\", \"Vihaan\", \"Vivaan\", \"Ananya\", \"Diya\", \"Advik\", \"Kabir\", \"Anaya\", \"Aarav\", \"Vivaan\", \"Aditya\", \"Vivaan\", \"Vihaan\", \"Arjun\", \"Vivaan\", \"Reyansh\", \"Mohammed\", \"Sai\", \"Arnav\", \"Aayan\", \"Krishna\", \"Ishaan\", \"Shaurya\", \"Atharva\", \"Advik\", \"Pranav\", \"Advaith\", \"Aaryan\", \"Dhruv\", \"Kabir\", \"Ritvik\", \"Aarush\", \"Kian\", \"Darsh\", \"Veer\"]\n",
    "\n",
    "sNames = [\"Bedi\", \"Gandhi\", \"Parekh\", \"Kohli\", \"Ahluwalia\", \"Chandra\", \"Jha\", \"Khanna\", \"Bajwa\", \"Chawla\", \"Lal\", \"Anand\", \"Gill\", \"Chakrabarti\", \"Dubey\", \"Kapoor\", \"Khurana\", \"Modi\", \"Kulkarni\", \"Khatri\", \"Kaur\", \"Saraf\", \"Kumar\", \"Gupta\", \"Naidu\", \"Das\", \"Jain\", \"Chowdhury\", \"Dalal\", \"Thakur\", \"Gokhale\", \"Apte\", \"Sachdev\", \"Mehta\", \"Ganguly\", \"Bhasin\", \"Mannan\", \"Ahuja\", \"Singh\", \"Bakshi\", \"Basu\", \"Ray\", \"Mani\", \"Datta\", \"Balakrishna\", \"Biswas\", \"Laghari\", \"Malhotra\", \"Dewan\", \"Purohit\", \"Pal\"]\n",
    "\n",
    "gender = [\"Male\", \"Female\", \"Others\"]\n",
    "\n",
    "categories = [\"AYUSH\", \"Prime Minister's Office\",\"Department of Atomic Energies\", \"Ministry of Agriculture and Farmers Welfare\",\"Ministry of Civil Aviation\", \"Ministry of Culture\",\"Ministry of Defence\", \"Ministry of Communications\", \"Ministry of Commerce and Industry\", \"Ministry of Coal\",\"Ministry of Company Affairs\", \"Ministry of Electronics and IT\",\"Ministry of External Affairs\", \"Ministry of Information and Broadcasting\", \"Ministry of Power\", \"Ministry of Petroleum and Natural Gases\", \"Ministry of Steel\", \"Ministry of Tourism\", \"Ministry of Science and Technology\", \"Ministry of Youth Affairs and Sports\", \"Ministry of Tribal Affairs\", \"PM Speech\", \"UPSC\", \"Ministry of Housing and Urban Affairs\", \"Ministry of Law and Justice\"]\n",
    "\n",
    "userData = pd.DataFrame()\n",
    "\n",
    "for i in range(0,5000):\n",
    "    ctSize = int(np.random.randint(1, 5, size=1)[0])\n",
    "    # print(ctSize)\n",
    "    userCategories = random.sample(categories, ctSize)\n",
    "    # print(userCategories)\n",
    "\n",
    "    userGender = random.choices(gender,weights=[60,50,3],k=1)[0]\n",
    "    # print(userGender)\n",
    "    userFirstName = random.sample(fNames,1)[0]\n",
    "    # print(userFirstName)\n",
    "    userLastName = random.sample(sNames,1)[0]\n",
    "    # print(userLastName)\n",
    "\n",
    "    userState = random.sample(states,1)[0]\n",
    "    # print(userState)\n",
    "    userHitCount = int(np.random.randint(1, 100, size=1)[0])\n",
    "    userViewsCount = int(np.random.randint(1, 98, size=1)[0])\n",
    "    userDict = {\n",
    "        'id': i+1,\n",
    "        'F Name': [userFirstName],\n",
    "        'L Name': [userLastName],\n",
    "        'Gender': [userGender],\n",
    "        'Location': [userState],\n",
    "        'Categories': [userCategories],\n",
    "        'Hit count': [userHitCount],\n",
    "        'Total Views': [userViewsCount]\n",
    "    }\n",
    "    user = pd.DataFrame(userDict)\n",
    "    userData = pd.concat([userData, user])\n",
    "# export to csv\n",
    "# userData.to_csv('userData.csv', index=False)\n",
    "\n",
    "# male = lambda x:userData['Gender']['Male'].values_count\n",
    "# print(male)\n",
    "totalMaleCount = userData['Gender'].value_counts()['Male']\n",
    "totalFemaleCount = userData['Gender'].value_counts()['Female']\n",
    "totalOthersCount = userData['Gender'].value_counts()['Others']\n",
    "# userData['Location'].value_counts().plot(kind='hist', figsize=(15, 15))\n",
    "plt.pie([totalMaleCount, totalFemaleCount, totalOthersCount], labels=['Male','Female','Others'],startangle=90)\n",
    "\n",
    "# plot = userData.plot.pie(y='Location', figsize=(10,10))"
   ]
  }
 ],
 "metadata": {
  "kernelspec": {
   "display_name": "Python 3.10.4 64-bit",
   "language": "python",
   "name": "python3"
  },
  "language_info": {
   "codemirror_mode": {
    "name": "ipython",
    "version": 3
   },
   "file_extension": ".py",
   "mimetype": "text/x-python",
   "name": "python",
   "nbconvert_exporter": "python",
   "pygments_lexer": "ipython3",
   "version": "3.10.4"
  },
  "orig_nbformat": 4,
  "vscode": {
   "interpreter": {
    "hash": "916dbcbb3f70747c44a77c7bcd40155683ae19c65e1c03b4aa3499c5328201f1"
   }
  }
 },
 "nbformat": 4,
 "nbformat_minor": 2
}
